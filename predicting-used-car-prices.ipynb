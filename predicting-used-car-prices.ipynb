{
 "cells": [
  {
   "cell_type": "code",
   "execution_count": 1,
   "id": "139f173f",
   "metadata": {
    "execution": {
     "iopub.execute_input": "2022-04-18T10:08:08.444525Z",
     "iopub.status.busy": "2022-04-18T10:08:08.443307Z",
     "iopub.status.idle": "2022-04-18T10:08:57.581795Z",
     "shell.execute_reply": "2022-04-18T10:08:57.581081Z",
     "shell.execute_reply.started": "2022-04-17T02:19:52.491116Z"
    },
    "papermill": {
     "duration": 49.183847,
     "end_time": "2022-04-18T10:08:57.582021",
     "exception": false,
     "start_time": "2022-04-18T10:08:08.398174",
     "status": "completed"
    },
    "tags": []
   },
   "outputs": [
    {
     "name": "stderr",
     "output_type": "stream",
     "text": [
      "C:\\Users\\Anks\\AppData\\Local\\Packages\\PythonSoftwareFoundation.Python.3.11_qbz5n2kfra8p0\\LocalCache\\local-packages\\Python311\\site-packages\\pyspark\\pandas\\__init__.py:50: UserWarning: 'PYARROW_IGNORE_TIMEZONE' environment variable was not set. It is required to set this environment variable to '1' in both driver and executor sides if you use pyarrow>=2.0.0. pandas-on-Spark will set it for you but it does not work if there is a Spark context already launched.\n",
      "  warnings.warn(\n"
     ]
    }
   ],
   "source": [
    "#import required libraries\n",
    "\n",
    "from pyspark.sql import SparkSession\n",
    "from datetime import datetime\n",
    "import pyspark.pandas as ps\n",
    "import os\n",
    "import shutil\n",
    "from glob import glob\n",
    "import numpy as np\n",
    "from pyspark.sql.functions import when\n",
    "from pyspark.ml.feature import StringIndexer\n",
    "from pyspark.ml.feature import OneHotEncoder\n",
    "from pyspark.ml.feature import VectorAssembler\n",
    "from pyspark.ml import Pipeline\n",
    "\n",
    "# ML models\n",
    "from pyspark.ml.regression import LinearRegression\n",
    "from pyspark.ml.regression import RandomForestRegressor\n",
    "from pyspark.ml.regression import GBTRegressor\n",
    "\n",
    "#visualisation\n",
    "import matplotlib.pyplot as plt\n",
    "%matplotlib inline"
   ]
  },
  {
   "cell_type": "markdown",
   "id": "3d7c4b7b",
   "metadata": {
    "papermill": {
     "duration": 0.212387,
     "end_time": "2022-04-18T10:08:57.982254",
     "exception": false,
     "start_time": "2022-04-18T10:08:57.769867",
     "status": "completed"
    },
    "tags": []
   },
   "source": [
    "# Starts spark session"
   ]
  },
  {
   "cell_type": "code",
   "execution_count": 2,
   "id": "0be098cd",
   "metadata": {
    "execution": {
     "iopub.execute_input": "2022-04-18T10:08:58.377865Z",
     "iopub.status.busy": "2022-04-18T10:08:58.375897Z",
     "iopub.status.idle": "2022-04-18T10:09:04.229988Z",
     "shell.execute_reply": "2022-04-18T10:09:04.228540Z",
     "shell.execute_reply.started": "2022-04-17T02:21:08.590585Z"
    },
    "papermill": {
     "duration": 6.065612,
     "end_time": "2022-04-18T10:09:04.230202",
     "exception": false,
     "start_time": "2022-04-18T10:08:58.164590",
     "status": "completed"
    },
    "tags": []
   },
   "outputs": [],
   "source": [
    "session = SparkSession.builder.appName('Cars').getOrCreate()"
   ]
  },
  {
   "cell_type": "markdown",
   "id": "d7183847",
   "metadata": {
    "papermill": {
     "duration": 0.181219,
     "end_time": "2022-04-18T10:09:04.599075",
     "exception": false,
     "start_time": "2022-04-18T10:09:04.417856",
     "status": "completed"
    },
    "tags": []
   },
   "source": [
    "# Data Preprocessing"
   ]
  },
  {
   "cell_type": "code",
   "execution_count": 3,
   "id": "f04f0a36",
   "metadata": {
    "execution": {
     "iopub.execute_input": "2022-04-18T10:09:04.982789Z",
     "iopub.status.busy": "2022-04-18T10:09:04.981883Z",
     "iopub.status.idle": "2022-04-18T10:09:04.984588Z",
     "shell.execute_reply": "2022-04-18T10:09:04.985029Z",
     "shell.execute_reply.started": "2022-04-17T02:24:22.356456Z"
    },
    "papermill": {
     "duration": 0.200267,
     "end_time": "2022-04-18T10:09:04.985207",
     "exception": false,
     "start_time": "2022-04-18T10:09:04.784940",
     "status": "completed"
    },
    "tags": []
   },
   "outputs": [],
   "source": [
    "def merge_data(): #function to merge all csv in dataset into single dataframe\n",
    "    car_files = glob(pathname='A:/pyspark-main/dataset/*.csv')\n",
    "    cars = ps.DataFrame() #initialize empty dataframe\n",
    "    for file in car_files:\n",
    "        brand = file.split(\"/\")[-1].split(\".\")[0] #get model name from file name\n",
    "        if not (brand == \"unclean cclass\" or brand == \"unclean focus\" or brand =='focus'or brand =='cclass'): #exclude \"unclean\" datasets\n",
    "            cdf = ps.read_csv(file)\n",
    "            cdf[\"brand\"] = brand ## add model name as new column into dataframe\n",
    "            if brand == \"hyundi\":\n",
    "                cdf.rename(columns={'tax(£)': 'tax'}, inplace=True)  #change column name for hyundi dataset\n",
    "                cars = cars.append(cdf)\n",
    "                del(cdf)              \n",
    "            else:\n",
    "                cars = cars.append(cdf)\n",
    "                del(cdf)  \n",
    "                \n",
    "    cars=cars.to_spark() #convert back to spark dataframe\n",
    "    return cars "
   ]
  },
  {
   "cell_type": "code",
   "execution_count": 4,
   "id": "994bbd6d",
   "metadata": {
    "execution": {
     "iopub.execute_input": "2022-04-18T10:09:05.360434Z",
     "iopub.status.busy": "2022-04-18T10:09:05.359699Z",
     "iopub.status.idle": "2022-04-18T10:09:16.491675Z",
     "shell.execute_reply": "2022-04-18T10:09:16.492984Z",
     "shell.execute_reply.started": "2022-04-17T02:24:23.292402Z"
    },
    "papermill": {
     "duration": 11.323124,
     "end_time": "2022-04-18T10:09:16.493232",
     "exception": false,
     "start_time": "2022-04-18T10:09:05.170108",
     "status": "completed"
    },
    "tags": []
   },
   "outputs": [
    {
     "name": "stderr",
     "output_type": "stream",
     "text": [
      "C:\\Users\\Anks\\AppData\\Local\\Packages\\PythonSoftwareFoundation.Python.3.11_qbz5n2kfra8p0\\LocalCache\\local-packages\\Python311\\site-packages\\pyspark\\pandas\\utils.py:975: PandasAPIOnSparkAdviceWarning: If `index_col` is not specified for `read_csv`, the default index is attached which can cause additional overhead.\n",
      "  warnings.warn(message, PandasAPIOnSparkAdviceWarning)\n",
      "C:\\Users\\Anks\\AppData\\Local\\Packages\\PythonSoftwareFoundation.Python.3.11_qbz5n2kfra8p0\\LocalCache\\local-packages\\Python311\\site-packages\\pyspark\\pandas\\frame.py:8865: FutureWarning: The DataFrame.append method is deprecated and will be removed in a future version. Use pyspark.pandas.concat instead.\n",
      "  warnings.warn(\n",
      "C:\\Users\\Anks\\AppData\\Local\\Packages\\PythonSoftwareFoundation.Python.3.11_qbz5n2kfra8p0\\LocalCache\\local-packages\\Python311\\site-packages\\pyspark\\pandas\\utils.py:975: PandasAPIOnSparkAdviceWarning: If `index_col` is not specified for `to_spark`, the existing index is lost when converting to Spark DataFrame.\n",
      "  warnings.warn(message, PandasAPIOnSparkAdviceWarning)\n"
     ]
    }
   ],
   "source": [
    "sparkdf= merge_data() #merge datasets into single dataframe\n",
    "sparkdf = sparkdf.filter(sparkdf.year != 2060) #remove year 2060"
   ]
  },
  {
   "cell_type": "code",
   "execution_count": 5,
   "id": "3913123a",
   "metadata": {
    "execution": {
     "iopub.execute_input": "2022-04-18T10:09:16.872824Z",
     "iopub.status.busy": "2022-04-18T10:09:16.872110Z",
     "iopub.status.idle": "2022-04-18T10:09:20.406794Z",
     "shell.execute_reply": "2022-04-18T10:09:20.406231Z",
     "shell.execute_reply.started": "2022-04-17T02:23:21.022292Z"
    },
    "papermill": {
     "duration": 3.723167,
     "end_time": "2022-04-18T10:09:20.406941",
     "exception": false,
     "start_time": "2022-04-18T10:09:16.683774",
     "status": "completed"
    },
    "tags": []
   },
   "outputs": [
    {
     "data": {
      "text/html": [
       "<div>\n",
       "<style scoped>\n",
       "    .dataframe tbody tr th:only-of-type {\n",
       "        vertical-align: middle;\n",
       "    }\n",
       "\n",
       "    .dataframe tbody tr th {\n",
       "        vertical-align: top;\n",
       "    }\n",
       "\n",
       "    .dataframe thead th {\n",
       "        text-align: right;\n",
       "    }\n",
       "</style>\n",
       "<table border=\"1\" class=\"dataframe\">\n",
       "  <thead>\n",
       "    <tr style=\"text-align: right;\">\n",
       "      <th></th>\n",
       "      <th>model</th>\n",
       "      <th>year</th>\n",
       "      <th>price</th>\n",
       "      <th>transmission</th>\n",
       "      <th>mileage</th>\n",
       "      <th>fuelType</th>\n",
       "      <th>tax</th>\n",
       "      <th>mpg</th>\n",
       "      <th>engineSize</th>\n",
       "      <th>brand</th>\n",
       "      <th>tax(£)</th>\n",
       "      <th>fuel type</th>\n",
       "      <th>engine size</th>\n",
       "      <th>mileage2</th>\n",
       "      <th>fuel type2</th>\n",
       "      <th>engine size2</th>\n",
       "      <th>reference</th>\n",
       "    </tr>\n",
       "  </thead>\n",
       "  <tbody>\n",
       "    <tr>\n",
       "      <th>0</th>\n",
       "      <td>A1</td>\n",
       "      <td>2017</td>\n",
       "      <td>12500</td>\n",
       "      <td>Manual</td>\n",
       "      <td>15735</td>\n",
       "      <td>Petrol</td>\n",
       "      <td>150.0</td>\n",
       "      <td>55.4</td>\n",
       "      <td>1.4</td>\n",
       "      <td>dataset\\audi</td>\n",
       "      <td>NaN</td>\n",
       "      <td>None</td>\n",
       "      <td>None</td>\n",
       "      <td>None</td>\n",
       "      <td>None</td>\n",
       "      <td>None</td>\n",
       "      <td>None</td>\n",
       "    </tr>\n",
       "    <tr>\n",
       "      <th>1</th>\n",
       "      <td>A6</td>\n",
       "      <td>2016</td>\n",
       "      <td>16500</td>\n",
       "      <td>Automatic</td>\n",
       "      <td>36203</td>\n",
       "      <td>Diesel</td>\n",
       "      <td>20.0</td>\n",
       "      <td>64.2</td>\n",
       "      <td>2.0</td>\n",
       "      <td>dataset\\audi</td>\n",
       "      <td>NaN</td>\n",
       "      <td>None</td>\n",
       "      <td>None</td>\n",
       "      <td>None</td>\n",
       "      <td>None</td>\n",
       "      <td>None</td>\n",
       "      <td>None</td>\n",
       "    </tr>\n",
       "    <tr>\n",
       "      <th>2</th>\n",
       "      <td>A1</td>\n",
       "      <td>2016</td>\n",
       "      <td>11000</td>\n",
       "      <td>Manual</td>\n",
       "      <td>29946</td>\n",
       "      <td>Petrol</td>\n",
       "      <td>30.0</td>\n",
       "      <td>55.4</td>\n",
       "      <td>1.4</td>\n",
       "      <td>dataset\\audi</td>\n",
       "      <td>NaN</td>\n",
       "      <td>None</td>\n",
       "      <td>None</td>\n",
       "      <td>None</td>\n",
       "      <td>None</td>\n",
       "      <td>None</td>\n",
       "      <td>None</td>\n",
       "    </tr>\n",
       "    <tr>\n",
       "      <th>3</th>\n",
       "      <td>A4</td>\n",
       "      <td>2017</td>\n",
       "      <td>16800</td>\n",
       "      <td>Automatic</td>\n",
       "      <td>25952</td>\n",
       "      <td>Diesel</td>\n",
       "      <td>145.0</td>\n",
       "      <td>67.3</td>\n",
       "      <td>2.0</td>\n",
       "      <td>dataset\\audi</td>\n",
       "      <td>NaN</td>\n",
       "      <td>None</td>\n",
       "      <td>None</td>\n",
       "      <td>None</td>\n",
       "      <td>None</td>\n",
       "      <td>None</td>\n",
       "      <td>None</td>\n",
       "    </tr>\n",
       "    <tr>\n",
       "      <th>4</th>\n",
       "      <td>A3</td>\n",
       "      <td>2019</td>\n",
       "      <td>17300</td>\n",
       "      <td>Manual</td>\n",
       "      <td>1998</td>\n",
       "      <td>Petrol</td>\n",
       "      <td>145.0</td>\n",
       "      <td>49.6</td>\n",
       "      <td>1.0</td>\n",
       "      <td>dataset\\audi</td>\n",
       "      <td>NaN</td>\n",
       "      <td>None</td>\n",
       "      <td>None</td>\n",
       "      <td>None</td>\n",
       "      <td>None</td>\n",
       "      <td>None</td>\n",
       "      <td>None</td>\n",
       "    </tr>\n",
       "  </tbody>\n",
       "</table>\n",
       "</div>"
      ],
      "text/plain": [
       "  model  year  price transmission mileage fuelType    tax   mpg  engineSize  \\\n",
       "0    A1  2017  12500       Manual   15735   Petrol  150.0  55.4         1.4   \n",
       "1    A6  2016  16500    Automatic   36203   Diesel   20.0  64.2         2.0   \n",
       "2    A1  2016  11000       Manual   29946   Petrol   30.0  55.4         1.4   \n",
       "3    A4  2017  16800    Automatic   25952   Diesel  145.0  67.3         2.0   \n",
       "4    A3  2019  17300       Manual    1998   Petrol  145.0  49.6         1.0   \n",
       "\n",
       "          brand  tax(£) fuel type engine size mileage2 fuel type2  \\\n",
       "0  dataset\\audi     NaN      None        None     None       None   \n",
       "1  dataset\\audi     NaN      None        None     None       None   \n",
       "2  dataset\\audi     NaN      None        None     None       None   \n",
       "3  dataset\\audi     NaN      None        None     None       None   \n",
       "4  dataset\\audi     NaN      None        None     None       None   \n",
       "\n",
       "  engine size2 reference  \n",
       "0         None      None  \n",
       "1         None      None  \n",
       "2         None      None  \n",
       "3         None      None  \n",
       "4         None      None  "
      ]
     },
     "execution_count": 5,
     "metadata": {},
     "output_type": "execute_result"
    }
   ],
   "source": [
    "sparkdf.toPandas().head() #inspect data"
   ]
  },
  {
   "cell_type": "code",
   "execution_count": 6,
   "id": "5a56ddb3",
   "metadata": {
    "execution": {
     "iopub.execute_input": "2022-04-18T10:09:20.785392Z",
     "iopub.status.busy": "2022-04-18T10:09:20.783698Z",
     "iopub.status.idle": "2022-04-18T10:09:23.049183Z",
     "shell.execute_reply": "2022-04-18T10:09:23.048635Z",
     "shell.execute_reply.started": "2022-04-17T02:24:27.516643Z"
    },
    "papermill": {
     "duration": 2.452729,
     "end_time": "2022-04-18T10:09:23.049336",
     "exception": false,
     "start_time": "2022-04-18T10:09:20.596607",
     "status": "completed"
    },
    "tags": []
   },
   "outputs": [
    {
     "name": "stdout",
     "output_type": "stream",
     "text": [
      "<class 'pandas.core.frame.DataFrame'>\n",
      "RangeIndex: 117902 entries, 0 to 117901\n",
      "Data columns (total 17 columns):\n",
      " #   Column        Non-Null Count   Dtype  \n",
      "---  ------        --------------   -----  \n",
      " 0   model         117902 non-null  object \n",
      " 1   year          117902 non-null  int32  \n",
      " 2   price         117902 non-null  object \n",
      " 3   transmission  117902 non-null  object \n",
      " 4   mileage       116988 non-null  object \n",
      " 5   fuelType      108539 non-null  object \n",
      " 6   tax           94326 non-null   float64\n",
      " 7   mpg           99186 non-null   float64\n",
      " 8   engineSize    108539 non-null  float64\n",
      " 9   brand         117902 non-null  object \n",
      " 10  tax(£)        4860 non-null    float64\n",
      " 11  fuel type     9363 non-null    object \n",
      " 12  engine size   9363 non-null    object \n",
      " 13  mileage2      9363 non-null    object \n",
      " 14  fuel type2    8449 non-null    object \n",
      " 15  engine size2  8449 non-null    object \n",
      " 16  reference     9363 non-null    object \n",
      "dtypes: float64(4), int32(1), object(12)\n",
      "memory usage: 14.8+ MB\n"
     ]
    }
   ],
   "source": [
    "sparkdf.toPandas().info() # look at type of data and missing values"
   ]
  },
  {
   "cell_type": "code",
   "execution_count": 7,
   "id": "6657f3c4",
   "metadata": {
    "execution": {
     "iopub.execute_input": "2022-04-18T10:09:23.426519Z",
     "iopub.status.busy": "2022-04-18T10:09:23.425853Z",
     "iopub.status.idle": "2022-04-18T10:09:25.623114Z",
     "shell.execute_reply": "2022-04-18T10:09:25.622634Z",
     "shell.execute_reply.started": "2022-04-08T06:08:52.738413Z"
    },
    "papermill": {
     "duration": 2.387202,
     "end_time": "2022-04-18T10:09:25.623275",
     "exception": false,
     "start_time": "2022-04-18T10:09:23.236073",
     "status": "completed"
    },
    "tags": []
   },
   "outputs": [
    {
     "data": {
      "text/html": [
       "<div>\n",
       "<style scoped>\n",
       "    .dataframe tbody tr th:only-of-type {\n",
       "        vertical-align: middle;\n",
       "    }\n",
       "\n",
       "    .dataframe tbody tr th {\n",
       "        vertical-align: top;\n",
       "    }\n",
       "\n",
       "    .dataframe thead th {\n",
       "        text-align: right;\n",
       "    }\n",
       "</style>\n",
       "<table border=\"1\" class=\"dataframe\">\n",
       "  <thead>\n",
       "    <tr style=\"text-align: right;\">\n",
       "      <th></th>\n",
       "      <th>year</th>\n",
       "      <th>tax</th>\n",
       "      <th>mpg</th>\n",
       "      <th>engineSize</th>\n",
       "      <th>tax(£)</th>\n",
       "    </tr>\n",
       "  </thead>\n",
       "  <tbody>\n",
       "    <tr>\n",
       "      <th>count</th>\n",
       "      <td>117902.000000</td>\n",
       "      <td>94326.000000</td>\n",
       "      <td>99186.000000</td>\n",
       "      <td>108539.000000</td>\n",
       "      <td>4860.000000</td>\n",
       "    </tr>\n",
       "    <tr>\n",
       "      <th>mean</th>\n",
       "      <td>2017.106088</td>\n",
       "      <td>120.255285</td>\n",
       "      <td>55.166950</td>\n",
       "      <td>1.661646</td>\n",
       "      <td>121.147119</td>\n",
       "    </tr>\n",
       "    <tr>\n",
       "      <th>std</th>\n",
       "      <td>2.132205</td>\n",
       "      <td>63.404540</td>\n",
       "      <td>16.138556</td>\n",
       "      <td>0.557060</td>\n",
       "      <td>58.003289</td>\n",
       "    </tr>\n",
       "    <tr>\n",
       "      <th>min</th>\n",
       "      <td>1970.000000</td>\n",
       "      <td>0.000000</td>\n",
       "      <td>0.300000</td>\n",
       "      <td>0.000000</td>\n",
       "      <td>0.000000</td>\n",
       "    </tr>\n",
       "    <tr>\n",
       "      <th>25%</th>\n",
       "      <td>2016.000000</td>\n",
       "      <td>125.000000</td>\n",
       "      <td>47.100000</td>\n",
       "      <td>1.200000</td>\n",
       "      <td>125.000000</td>\n",
       "    </tr>\n",
       "    <tr>\n",
       "      <th>50%</th>\n",
       "      <td>2017.000000</td>\n",
       "      <td>145.000000</td>\n",
       "      <td>54.300000</td>\n",
       "      <td>1.600000</td>\n",
       "      <td>145.000000</td>\n",
       "    </tr>\n",
       "    <tr>\n",
       "      <th>75%</th>\n",
       "      <td>2019.000000</td>\n",
       "      <td>145.000000</td>\n",
       "      <td>62.800000</td>\n",
       "      <td>2.000000</td>\n",
       "      <td>145.000000</td>\n",
       "    </tr>\n",
       "    <tr>\n",
       "      <th>max</th>\n",
       "      <td>2020.000000</td>\n",
       "      <td>580.000000</td>\n",
       "      <td>470.800000</td>\n",
       "      <td>6.600000</td>\n",
       "      <td>555.000000</td>\n",
       "    </tr>\n",
       "  </tbody>\n",
       "</table>\n",
       "</div>"
      ],
      "text/plain": [
       "                year           tax           mpg     engineSize       tax(£)\n",
       "count  117902.000000  94326.000000  99186.000000  108539.000000  4860.000000\n",
       "mean     2017.106088    120.255285     55.166950       1.661646   121.147119\n",
       "std         2.132205     63.404540     16.138556       0.557060    58.003289\n",
       "min      1970.000000      0.000000      0.300000       0.000000     0.000000\n",
       "25%      2016.000000    125.000000     47.100000       1.200000   125.000000\n",
       "50%      2017.000000    145.000000     54.300000       1.600000   145.000000\n",
       "75%      2019.000000    145.000000     62.800000       2.000000   145.000000\n",
       "max      2020.000000    580.000000    470.800000       6.600000   555.000000"
      ]
     },
     "execution_count": 7,
     "metadata": {},
     "output_type": "execute_result"
    }
   ],
   "source": [
    "sparkdf.toPandas().describe()"
   ]
  },
  {
   "cell_type": "code",
   "execution_count": 8,
   "id": "238fa610",
   "metadata": {
    "execution": {
     "iopub.execute_input": "2022-04-18T10:09:26.001658Z",
     "iopub.status.busy": "2022-04-18T10:09:26.000981Z",
     "iopub.status.idle": "2022-04-18T10:09:26.007127Z",
     "shell.execute_reply": "2022-04-18T10:09:26.007841Z",
     "shell.execute_reply.started": "2022-04-16T12:59:22.886635Z"
    },
    "papermill": {
     "duration": 0.201109,
     "end_time": "2022-04-18T10:09:26.008185",
     "exception": false,
     "start_time": "2022-04-18T10:09:25.807076",
     "status": "completed"
    },
    "tags": []
   },
   "outputs": [
    {
     "name": "stdout",
     "output_type": "stream",
     "text": [
      "root\n",
      " |-- model: string (nullable = true)\n",
      " |-- year: integer (nullable = true)\n",
      " |-- price: string (nullable = true)\n",
      " |-- transmission: string (nullable = true)\n",
      " |-- mileage: string (nullable = true)\n",
      " |-- fuelType: string (nullable = true)\n",
      " |-- tax: integer (nullable = true)\n",
      " |-- mpg: double (nullable = true)\n",
      " |-- engineSize: double (nullable = true)\n",
      " |-- brand: string (nullable = true)\n",
      " |-- tax(£): integer (nullable = true)\n",
      " |-- fuel type: string (nullable = true)\n",
      " |-- engine size: string (nullable = true)\n",
      " |-- mileage2: string (nullable = true)\n",
      " |-- fuel type2: string (nullable = true)\n",
      " |-- engine size2: string (nullable = true)\n",
      " |-- reference: string (nullable = true)\n",
      "\n"
     ]
    }
   ],
   "source": [
    "sparkdf.printSchema() #check schema"
   ]
  },
  {
   "cell_type": "code",
   "execution_count": 9,
   "id": "487106fe",
   "metadata": {
    "execution": {
     "iopub.execute_input": "2022-04-18T10:09:26.400707Z",
     "iopub.status.busy": "2022-04-18T10:09:26.400045Z",
     "iopub.status.idle": "2022-04-18T10:09:28.460604Z",
     "shell.execute_reply": "2022-04-18T10:09:28.460075Z",
     "shell.execute_reply.started": "2022-04-16T12:59:38.950485Z"
    },
    "papermill": {
     "duration": 2.251502,
     "end_time": "2022-04-18T10:09:28.460749",
     "exception": false,
     "start_time": "2022-04-18T10:09:26.209247",
     "status": "completed"
    },
    "tags": []
   },
   "outputs": [
    {
     "name": "stdout",
     "output_type": "stream",
     "text": [
      "+----+\n",
      "|year|\n",
      "+----+\n",
      "|2003|\n",
      "|2007|\n",
      "|2018|\n",
      "|2015|\n",
      "|2006|\n",
      "|2013|\n",
      "|1997|\n",
      "|2014|\n",
      "|2019|\n",
      "|2004|\n",
      "|1998|\n",
      "|2020|\n",
      "|2012|\n",
      "|2009|\n",
      "|2016|\n",
      "|2005|\n",
      "|2010|\n",
      "|2011|\n",
      "|2008|\n",
      "|2017|\n",
      "|2002|\n",
      "|1996|\n",
      "|2001|\n",
      "|2000|\n",
      "|1999|\n",
      "|1991|\n",
      "|1995|\n",
      "|1970|\n",
      "+----+\n",
      "\n"
     ]
    }
   ],
   "source": [
    "sparkdf.select('year').distinct().show(60,truncate=False)\n",
    "\n",
    "sparkdf = sparkdf.filter(sparkdf.year != 2060) #remove entry with year 2060\n"
   ]
  },
  {
   "cell_type": "code",
   "execution_count": 10,
   "id": "0ba7f9f4",
   "metadata": {
    "execution": {
     "iopub.execute_input": "2022-04-18T10:09:28.835151Z",
     "iopub.status.busy": "2022-04-18T10:09:28.834180Z",
     "iopub.status.idle": "2022-04-18T10:09:33.154982Z",
     "shell.execute_reply": "2022-04-18T10:09:33.154115Z",
     "shell.execute_reply.started": "2022-04-16T12:55:20.491654Z"
    },
    "papermill": {
     "duration": 4.508377,
     "end_time": "2022-04-18T10:09:33.155196",
     "exception": false,
     "start_time": "2022-04-18T10:09:28.646819",
     "status": "completed"
    },
    "tags": []
   },
   "outputs": [
    {
     "name": "stdout",
     "output_type": "stream",
     "text": [
      "model has 195 unique values\n",
      "transmission has 4 unique values\n",
      "fuelType has 6 unique values\n",
      "brand has 13 unique values\n"
     ]
    }
   ],
   "source": [
    "## Check categorical columns\n",
    "categorical_columns = ['model','transmission',\n",
    "                      'fuelType','brand']\n",
    "\n",
    "for i in categorical_columns:  #check unqiue values in categorical columns\n",
    "    print(f\"{i} has {sparkdf.select(i).distinct().count()} unique values\")\n",
    "    #sparkdf.select(i).distinct().show()\n",
    "    "
   ]
  },
  {
   "cell_type": "markdown",
   "id": "ed317fb4",
   "metadata": {
    "papermill": {
     "duration": 0.188301,
     "end_time": "2022-04-18T10:09:33.539632",
     "exception": false,
     "start_time": "2022-04-18T10:09:33.351331",
     "status": "completed"
    },
    "tags": []
   },
   "source": [
    "# Data Transformation for model"
   ]
  },
  {
   "cell_type": "code",
   "execution_count": 11,
   "id": "655d842f",
   "metadata": {
    "execution": {
     "iopub.execute_input": "2022-04-18T10:09:33.931104Z",
     "iopub.status.busy": "2022-04-18T10:09:33.930381Z",
     "iopub.status.idle": "2022-04-18T10:09:33.931829Z",
     "shell.execute_reply": "2022-04-18T10:09:33.932463Z",
     "shell.execute_reply.started": "2022-04-08T06:09:11.394269Z"
    },
    "papermill": {
     "duration": 0.202284,
     "end_time": "2022-04-18T10:09:33.932629",
     "exception": false,
     "start_time": "2022-04-18T10:09:33.730345",
     "status": "completed"
    },
    "tags": []
   },
   "outputs": [],
   "source": [
    "def cat_pipe_stages(categorical_columns):  #function to create pipeline to convert all cat columns \n",
    "    pipeline_stages = []\n",
    "    for categorial_column in categorical_columns:\n",
    "        string_indexer = StringIndexer(inputCol = categorial_column, \n",
    "                                       outputCol = categorial_column + 'Index')\n",
    "        encoder = OneHotEncoder(inputCols = [string_indexer.getOutputCol()], \n",
    "                                outputCols=[categorial_column + \"classVec\"])\n",
    "        pipeline_stages += [string_indexer, encoder]\n",
    "    return pipeline_stages"
   ]
  },
  {
   "cell_type": "code",
   "execution_count": 12,
   "id": "a779ac6b",
   "metadata": {
    "execution": {
     "iopub.execute_input": "2022-04-18T10:09:34.317467Z",
     "iopub.status.busy": "2022-04-18T10:09:34.316812Z",
     "iopub.status.idle": "2022-04-18T10:09:34.378433Z",
     "shell.execute_reply": "2022-04-18T10:09:34.377280Z",
     "shell.execute_reply.started": "2022-04-08T06:09:13.831066Z"
    },
    "papermill": {
     "duration": 0.254929,
     "end_time": "2022-04-18T10:09:34.378616",
     "exception": false,
     "start_time": "2022-04-18T10:09:34.123687",
     "status": "completed"
    },
    "tags": []
   },
   "outputs": [],
   "source": [
    "cat_pipe_stages = cat_pipe_stages(categorical_columns)"
   ]
  },
  {
   "cell_type": "code",
   "execution_count": 13,
   "id": "ad2d07b0",
   "metadata": {
    "execution": {
     "iopub.execute_input": "2022-04-18T10:09:34.760433Z",
     "iopub.status.busy": "2022-04-18T10:09:34.759750Z",
     "iopub.status.idle": "2022-04-18T10:09:34.762957Z",
     "shell.execute_reply": "2022-04-18T10:09:34.763534Z",
     "shell.execute_reply.started": "2022-04-08T06:09:16.192923Z"
    },
    "papermill": {
     "duration": 0.195759,
     "end_time": "2022-04-18T10:09:34.763695",
     "exception": false,
     "start_time": "2022-04-18T10:09:34.567936",
     "status": "completed"
    },
    "tags": []
   },
   "outputs": [
    {
     "name": "stdout",
     "output_type": "stream",
     "text": [
      "[StringIndexer_7324da03286c, OneHotEncoder_f8eb5fec099c, StringIndexer_aabd7f290221, OneHotEncoder_749165448410, StringIndexer_f4dec8d1e602, OneHotEncoder_8ef57d92a0f4, StringIndexer_38add4a85f9c, OneHotEncoder_92e69c5845ed]\n"
     ]
    }
   ],
   "source": [
    "print(cat_pipe_stages)"
   ]
  },
  {
   "cell_type": "code",
   "execution_count": 14,
   "id": "390ed0ba",
   "metadata": {
    "execution": {
     "iopub.execute_input": "2022-04-18T10:09:35.147370Z",
     "iopub.status.busy": "2022-04-18T10:09:35.146702Z",
     "iopub.status.idle": "2022-04-18T10:09:35.149954Z",
     "shell.execute_reply": "2022-04-18T10:09:35.149408Z",
     "shell.execute_reply.started": "2022-04-08T06:09:18.400087Z"
    },
    "papermill": {
     "duration": 0.196947,
     "end_time": "2022-04-18T10:09:35.150125",
     "exception": false,
     "start_time": "2022-04-18T10:09:34.953178",
     "status": "completed"
    },
    "tags": []
   },
   "outputs": [],
   "source": [
    "# execute pipeline to convert categorical columns to index and vec in dataframe \n",
    "def convertcat(df,stages):\n",
    "    pipeline = Pipeline(stages = stages)\n",
    "    pipeline_model = pipeline.fit(df)\n",
    "    df = pipeline_model \\\n",
    "    .transform(df) \\\n",
    "    .select(['*'])\n",
    "    return df"
   ]
  },
  {
   "cell_type": "code",
   "execution_count": 15,
   "id": "31fa5b63",
   "metadata": {
    "execution": {
     "iopub.execute_input": "2022-04-18T10:09:35.526767Z",
     "iopub.status.busy": "2022-04-18T10:09:35.526150Z",
     "iopub.status.idle": "2022-04-18T10:09:40.654072Z",
     "shell.execute_reply": "2022-04-18T10:09:40.653103Z",
     "shell.execute_reply.started": "2022-04-08T06:09:23.10522Z"
    },
    "papermill": {
     "duration": 5.31887,
     "end_time": "2022-04-18T10:09:40.654226",
     "exception": false,
     "start_time": "2022-04-18T10:09:35.335356",
     "status": "completed"
    },
    "tags": []
   },
   "outputs": [
    {
     "name": "stderr",
     "output_type": "stream",
     "text": [
      "                                                                                \r"
     ]
    }
   ],
   "source": [
    "newdf = convertcat(sparkdf,cat_pipe_stages)"
   ]
  },
  {
   "cell_type": "code",
   "execution_count": 16,
   "id": "db35e41b",
   "metadata": {
    "execution": {
     "iopub.execute_input": "2022-04-18T10:09:41.038201Z",
     "iopub.status.busy": "2022-04-18T10:09:41.037154Z",
     "iopub.status.idle": "2022-04-18T10:09:41.782866Z",
     "shell.execute_reply": "2022-04-18T10:09:41.783822Z",
     "shell.execute_reply.started": "2022-04-08T06:09:29.104521Z"
    },
    "papermill": {
     "duration": 0.93995,
     "end_time": "2022-04-18T10:09:41.784112",
     "exception": false,
     "start_time": "2022-04-18T10:09:40.844162",
     "status": "completed"
    },
    "tags": []
   },
   "outputs": [
    {
     "name": "stdout",
     "output_type": "stream",
     "text": [
      "+-----+----+-----+------------+-------+--------+---+----+----------+-----+----------+----------------+-----------------+--------------------+-------------+----------------+----------+-------------+\n",
      "|model|year|price|transmission|mileage|fuelType|tax| mpg|engineSize|brand|modelIndex|   modelclassVec|transmissionIndex|transmissionclassVec|fuelTypeIndex|fuelTypeclassVec|brandIndex|brandclassVec|\n",
      "+-----+----+-----+------------+-------+--------+---+----+----------+-----+----------+----------------+-----------------+--------------------+-------------+----------------+----------+-------------+\n",
      "|   A1|2017|12500|      Manual|  15735|  Petrol|150|55.4|       1.4| audi|      21.0|(194,[21],[1.0])|              0.0|       (3,[0],[1.0])|          0.0|   (4,[0],[1.0])|       5.0|(8,[5],[1.0])|\n",
      "|   A6|2016|16500|   Automatic|  36203|  Diesel| 20|64.2|       2.0| audi|      39.0|(194,[39],[1.0])|              2.0|       (3,[2],[1.0])|          1.0|   (4,[1],[1.0])|       5.0|(8,[5],[1.0])|\n",
      "|   A1|2016|11000|      Manual|  29946|  Petrol| 30|55.4|       1.4| audi|      21.0|(194,[21],[1.0])|              0.0|       (3,[0],[1.0])|          0.0|   (4,[0],[1.0])|       5.0|(8,[5],[1.0])|\n",
      "|   A4|2017|16800|   Automatic|  25952|  Diesel|145|67.3|       2.0| audi|      20.0|(194,[20],[1.0])|              2.0|       (3,[2],[1.0])|          1.0|   (4,[1],[1.0])|       5.0|(8,[5],[1.0])|\n",
      "|   A3|2019|17300|      Manual|   1998|  Petrol|145|49.6|       1.0| audi|      15.0|(194,[15],[1.0])|              0.0|       (3,[0],[1.0])|          0.0|   (4,[0],[1.0])|       5.0|(8,[5],[1.0])|\n",
      "|   A1|2016|13900|   Automatic|  32260|  Petrol| 30|58.9|       1.4| audi|      21.0|(194,[21],[1.0])|              2.0|       (3,[2],[1.0])|          0.0|   (4,[0],[1.0])|       5.0|(8,[5],[1.0])|\n",
      "|   A6|2016|13250|   Automatic|  76788|  Diesel| 30|61.4|       2.0| audi|      39.0|(194,[39],[1.0])|              2.0|       (3,[2],[1.0])|          1.0|   (4,[1],[1.0])|       5.0|(8,[5],[1.0])|\n",
      "|   A4|2016|11750|      Manual|  75185|  Diesel| 20|70.6|       2.0| audi|      20.0|(194,[20],[1.0])|              0.0|       (3,[0],[1.0])|          1.0|   (4,[1],[1.0])|       5.0|(8,[5],[1.0])|\n",
      "|   A3|2015|10200|      Manual|  46112|  Petrol| 20|60.1|       1.4| audi|      15.0|(194,[15],[1.0])|              0.0|       (3,[0],[1.0])|          0.0|   (4,[0],[1.0])|       5.0|(8,[5],[1.0])|\n",
      "|   A1|2016|12000|      Manual|  22451|  Petrol| 30|55.4|       1.4| audi|      21.0|(194,[21],[1.0])|              0.0|       (3,[0],[1.0])|          0.0|   (4,[0],[1.0])|       5.0|(8,[5],[1.0])|\n",
      "|   A3|2017|16100|      Manual|  28955|  Petrol|145|58.9|       1.4| audi|      15.0|(194,[15],[1.0])|              0.0|       (3,[0],[1.0])|          0.0|   (4,[0],[1.0])|       5.0|(8,[5],[1.0])|\n",
      "|   A6|2016|16500|   Automatic|  52198|  Diesel|125|57.6|       2.0| audi|      39.0|(194,[39],[1.0])|              2.0|       (3,[2],[1.0])|          1.0|   (4,[1],[1.0])|       5.0|(8,[5],[1.0])|\n",
      "|   Q3|2016|17000|      Manual|  44915|  Diesel|145|52.3|       2.0| audi|      19.0|(194,[19],[1.0])|              0.0|       (3,[0],[1.0])|          1.0|   (4,[1],[1.0])|       5.0|(8,[5],[1.0])|\n",
      "|   A3|2017|16400|      Manual|  21695|  Petrol| 30|58.9|       1.4| audi|      15.0|(194,[15],[1.0])|              0.0|       (3,[0],[1.0])|          0.0|   (4,[0],[1.0])|       5.0|(8,[5],[1.0])|\n",
      "|   A6|2015|15400|      Manual|  47348|  Diesel| 30|61.4|       2.0| audi|      39.0|(194,[39],[1.0])|              0.0|       (3,[0],[1.0])|          1.0|   (4,[1],[1.0])|       5.0|(8,[5],[1.0])|\n",
      "|   A3|2017|14500|   Automatic|  26156|  Petrol|145|58.9|       1.4| audi|      15.0|(194,[15],[1.0])|              2.0|       (3,[2],[1.0])|          0.0|   (4,[0],[1.0])|       5.0|(8,[5],[1.0])|\n",
      "|   Q3|2016|15700|   Automatic|  28396|  Diesel|145|53.3|       2.0| audi|      19.0|(194,[19],[1.0])|              2.0|       (3,[2],[1.0])|          1.0|   (4,[1],[1.0])|       5.0|(8,[5],[1.0])|\n",
      "|   A3|2014|13900|   Automatic|  30516|  Petrol| 30|56.5|       1.4| audi|      15.0|(194,[15],[1.0])|              2.0|       (3,[2],[1.0])|          0.0|   (4,[0],[1.0])|       5.0|(8,[5],[1.0])|\n",
      "|   Q5|2016|19000|   Automatic|  37652|  Diesel|200|47.1|       2.0| audi|      33.0|(194,[33],[1.0])|              2.0|       (3,[2],[1.0])|          1.0|   (4,[1],[1.0])|       5.0|(8,[5],[1.0])|\n",
      "|   Q3|2014|17000|      Manual|  34110|  Petrol|145|47.9|       1.4| audi|      19.0|(194,[19],[1.0])|              0.0|       (3,[0],[1.0])|          0.0|   (4,[0],[1.0])|       5.0|(8,[5],[1.0])|\n",
      "+-----+----+-----+------------+-------+--------+---+----+----------+-----+----------+----------------+-----------------+--------------------+-------------+----------------+----------+-------------+\n",
      "only showing top 20 rows\n",
      "\n"
     ]
    }
   ],
   "source": [
    "newdf.show()"
   ]
  },
  {
   "cell_type": "code",
   "execution_count": 17,
   "id": "4283bc98",
   "metadata": {
    "execution": {
     "iopub.execute_input": "2022-04-18T10:09:42.177363Z",
     "iopub.status.busy": "2022-04-18T10:09:42.176704Z",
     "iopub.status.idle": "2022-04-18T10:09:42.203026Z",
     "shell.execute_reply": "2022-04-18T10:09:42.202370Z",
     "shell.execute_reply.started": "2022-04-08T06:10:18.474345Z"
    },
    "papermill": {
     "duration": 0.221825,
     "end_time": "2022-04-18T10:09:42.203195",
     "exception": false,
     "start_time": "2022-04-18T10:09:41.981370",
     "status": "completed"
    },
    "tags": []
   },
   "outputs": [],
   "source": [
    "#selecting only the columns we want from above\n",
    "\n",
    "#note tax and mpg were dropped because of some null values.. if wish to include, have to drop those rows\n",
    "vec_df = newdf.select('price','year','tax','mileage','mpg',\n",
    "                      'engineSize','modelclassVec','transmissionclassVec','fuelTypeclassVec','brandclassVec')"
   ]
  },
  {
   "cell_type": "code",
   "execution_count": 18,
   "id": "03c64fc8",
   "metadata": {
    "execution": {
     "iopub.execute_input": "2022-04-18T10:09:42.587060Z",
     "iopub.status.busy": "2022-04-18T10:09:42.586360Z",
     "iopub.status.idle": "2022-04-18T10:09:43.122582Z",
     "shell.execute_reply": "2022-04-18T10:09:43.121721Z",
     "shell.execute_reply.started": "2022-04-08T06:10:20.90297Z"
    },
    "papermill": {
     "duration": 0.728446,
     "end_time": "2022-04-18T10:09:43.122778",
     "exception": false,
     "start_time": "2022-04-18T10:09:42.394332",
     "status": "completed"
    },
    "tags": []
   },
   "outputs": [
    {
     "name": "stdout",
     "output_type": "stream",
     "text": [
      "+-----+----+---+-------+----+----------+----------------+--------------------+----------------+-------------+\n",
      "|price|year|tax|mileage| mpg|engineSize|   modelclassVec|transmissionclassVec|fuelTypeclassVec|brandclassVec|\n",
      "+-----+----+---+-------+----+----------+----------------+--------------------+----------------+-------------+\n",
      "|12500|2017|150|  15735|55.4|       1.4|(194,[21],[1.0])|       (3,[0],[1.0])|   (4,[0],[1.0])|(8,[5],[1.0])|\n",
      "|16500|2016| 20|  36203|64.2|       2.0|(194,[39],[1.0])|       (3,[2],[1.0])|   (4,[1],[1.0])|(8,[5],[1.0])|\n",
      "|11000|2016| 30|  29946|55.4|       1.4|(194,[21],[1.0])|       (3,[0],[1.0])|   (4,[0],[1.0])|(8,[5],[1.0])|\n",
      "|16800|2017|145|  25952|67.3|       2.0|(194,[20],[1.0])|       (3,[2],[1.0])|   (4,[1],[1.0])|(8,[5],[1.0])|\n",
      "|17300|2019|145|   1998|49.6|       1.0|(194,[15],[1.0])|       (3,[0],[1.0])|   (4,[0],[1.0])|(8,[5],[1.0])|\n",
      "|13900|2016| 30|  32260|58.9|       1.4|(194,[21],[1.0])|       (3,[2],[1.0])|   (4,[0],[1.0])|(8,[5],[1.0])|\n",
      "|13250|2016| 30|  76788|61.4|       2.0|(194,[39],[1.0])|       (3,[2],[1.0])|   (4,[1],[1.0])|(8,[5],[1.0])|\n",
      "|11750|2016| 20|  75185|70.6|       2.0|(194,[20],[1.0])|       (3,[0],[1.0])|   (4,[1],[1.0])|(8,[5],[1.0])|\n",
      "|10200|2015| 20|  46112|60.1|       1.4|(194,[15],[1.0])|       (3,[0],[1.0])|   (4,[0],[1.0])|(8,[5],[1.0])|\n",
      "|12000|2016| 30|  22451|55.4|       1.4|(194,[21],[1.0])|       (3,[0],[1.0])|   (4,[0],[1.0])|(8,[5],[1.0])|\n",
      "|16100|2017|145|  28955|58.9|       1.4|(194,[15],[1.0])|       (3,[0],[1.0])|   (4,[0],[1.0])|(8,[5],[1.0])|\n",
      "|16500|2016|125|  52198|57.6|       2.0|(194,[39],[1.0])|       (3,[2],[1.0])|   (4,[1],[1.0])|(8,[5],[1.0])|\n",
      "|17000|2016|145|  44915|52.3|       2.0|(194,[19],[1.0])|       (3,[0],[1.0])|   (4,[1],[1.0])|(8,[5],[1.0])|\n",
      "|16400|2017| 30|  21695|58.9|       1.4|(194,[15],[1.0])|       (3,[0],[1.0])|   (4,[0],[1.0])|(8,[5],[1.0])|\n",
      "|15400|2015| 30|  47348|61.4|       2.0|(194,[39],[1.0])|       (3,[0],[1.0])|   (4,[1],[1.0])|(8,[5],[1.0])|\n",
      "|14500|2017|145|  26156|58.9|       1.4|(194,[15],[1.0])|       (3,[2],[1.0])|   (4,[0],[1.0])|(8,[5],[1.0])|\n",
      "|15700|2016|145|  28396|53.3|       2.0|(194,[19],[1.0])|       (3,[2],[1.0])|   (4,[1],[1.0])|(8,[5],[1.0])|\n",
      "|13900|2014| 30|  30516|56.5|       1.4|(194,[15],[1.0])|       (3,[2],[1.0])|   (4,[0],[1.0])|(8,[5],[1.0])|\n",
      "|19000|2016|200|  37652|47.1|       2.0|(194,[33],[1.0])|       (3,[2],[1.0])|   (4,[1],[1.0])|(8,[5],[1.0])|\n",
      "|17000|2014|145|  34110|47.9|       1.4|(194,[19],[1.0])|       (3,[0],[1.0])|   (4,[0],[1.0])|(8,[5],[1.0])|\n",
      "+-----+----+---+-------+----+----------+----------------+--------------------+----------------+-------------+\n",
      "only showing top 20 rows\n",
      "\n"
     ]
    }
   ],
   "source": [
    "vec_df.show()"
   ]
  },
  {
   "cell_type": "code",
   "execution_count": 19,
   "id": "ce6d901a",
   "metadata": {
    "execution": {
     "iopub.execute_input": "2022-04-18T10:09:43.567765Z",
     "iopub.status.busy": "2022-04-18T10:09:43.566872Z",
     "iopub.status.idle": "2022-04-18T10:09:43.577783Z",
     "shell.execute_reply": "2022-04-18T10:09:43.578281Z",
     "shell.execute_reply.started": "2022-04-08T06:10:54.158591Z"
    },
    "papermill": {
     "duration": 0.206662,
     "end_time": "2022-04-18T10:09:43.578462",
     "exception": false,
     "start_time": "2022-04-18T10:09:43.371800",
     "status": "completed"
    },
    "tags": []
   },
   "outputs": [],
   "source": [
    "## Convert features that we want into a vector column named as features\n",
    "vector_assembler_inputs = ['year','tax','mileage','mpg','engineSize',\n",
    "                           'modelclassVec','transmissionclassVec','fuelTypeclassVec','brandclassVec']\n",
    "vector_assembler = VectorAssembler(inputCols = vector_assembler_inputs, \n",
    "                                   outputCol = \"features\")"
   ]
  },
  {
   "cell_type": "code",
   "execution_count": 20,
   "id": "a21cfd09",
   "metadata": {
    "execution": {
     "iopub.execute_input": "2022-04-18T10:09:44.031543Z",
     "iopub.status.busy": "2022-04-18T10:09:44.030815Z",
     "iopub.status.idle": "2022-04-18T10:09:44.032838Z",
     "shell.execute_reply": "2022-04-18T10:09:44.033416Z",
     "shell.execute_reply.started": "2022-04-08T06:10:57.759796Z"
    },
    "papermill": {
     "duration": 0.230412,
     "end_time": "2022-04-18T10:09:44.033630",
     "exception": false,
     "start_time": "2022-04-18T10:09:43.803218",
     "status": "completed"
    },
    "tags": []
   },
   "outputs": [],
   "source": [
    "## execute vector assembler pipeline\n",
    "\n",
    "def vecpipe(df,stages):\n",
    "    pipeline = Pipeline(stages = stages)\n",
    "    pipeline_model = pipeline.fit(df)\n",
    "    label_column = 'price'\n",
    "    sdf = pipeline_model \\\n",
    "    .transform(vec_df) \\\n",
    "    .select(['features', label_column])\n",
    "    \n",
    "    return sdf"
   ]
  },
  {
   "cell_type": "code",
   "execution_count": 21,
   "id": "53e58127",
   "metadata": {
    "execution": {
     "iopub.execute_input": "2022-04-18T10:09:44.495326Z",
     "iopub.status.busy": "2022-04-18T10:09:44.494678Z",
     "iopub.status.idle": "2022-04-18T10:09:44.598900Z",
     "shell.execute_reply": "2022-04-18T10:09:44.598280Z",
     "shell.execute_reply.started": "2022-04-08T06:11:00.664982Z"
    },
    "papermill": {
     "duration": 0.361225,
     "end_time": "2022-04-18T10:09:44.599040",
     "exception": false,
     "start_time": "2022-04-18T10:09:44.237815",
     "status": "completed"
    },
    "tags": []
   },
   "outputs": [],
   "source": [
    "spark_features_df = vecpipe(newdf,[vector_assembler])"
   ]
  },
  {
   "cell_type": "code",
   "execution_count": 22,
   "id": "5eeef312",
   "metadata": {
    "execution": {
     "iopub.execute_input": "2022-04-18T10:09:44.987745Z",
     "iopub.status.busy": "2022-04-18T10:09:44.987105Z",
     "iopub.status.idle": "2022-04-18T10:09:54.015573Z",
     "shell.execute_reply": "2022-04-18T10:09:54.014920Z",
     "shell.execute_reply.started": "2022-04-08T06:11:02.722831Z"
    },
    "papermill": {
     "duration": 9.22534,
     "end_time": "2022-04-18T10:09:54.015711",
     "exception": false,
     "start_time": "2022-04-18T10:09:44.790371",
     "status": "completed"
    },
    "tags": []
   },
   "outputs": [
    {
     "name": "stderr",
     "output_type": "stream",
     "text": [
      "                                                                                \r"
     ]
    },
    {
     "data": {
      "text/html": [
       "<div>\n",
       "<style scoped>\n",
       "    .dataframe tbody tr th:only-of-type {\n",
       "        vertical-align: middle;\n",
       "    }\n",
       "\n",
       "    .dataframe tbody tr th {\n",
       "        vertical-align: top;\n",
       "    }\n",
       "\n",
       "    .dataframe thead th {\n",
       "        text-align: right;\n",
       "    }\n",
       "</style>\n",
       "<table border=\"1\" class=\"dataframe\">\n",
       "  <thead>\n",
       "    <tr style=\"text-align: right;\">\n",
       "      <th></th>\n",
       "      <th>features</th>\n",
       "      <th>price</th>\n",
       "    </tr>\n",
       "  </thead>\n",
       "  <tbody>\n",
       "    <tr>\n",
       "      <th>0</th>\n",
       "      <td>(2017.0, 150.0, 15735.0, 55.4, 1.4, 0.0, 0.0, ...</td>\n",
       "      <td>12500</td>\n",
       "    </tr>\n",
       "    <tr>\n",
       "      <th>1</th>\n",
       "      <td>(2016.0, 20.0, 36203.0, 64.2, 2.0, 0.0, 0.0, 0...</td>\n",
       "      <td>16500</td>\n",
       "    </tr>\n",
       "    <tr>\n",
       "      <th>2</th>\n",
       "      <td>(2016.0, 30.0, 29946.0, 55.4, 1.4, 0.0, 0.0, 0...</td>\n",
       "      <td>11000</td>\n",
       "    </tr>\n",
       "    <tr>\n",
       "      <th>3</th>\n",
       "      <td>(2017.0, 145.0, 25952.0, 67.3, 2.0, 0.0, 0.0, ...</td>\n",
       "      <td>16800</td>\n",
       "    </tr>\n",
       "    <tr>\n",
       "      <th>4</th>\n",
       "      <td>(2019.0, 145.0, 1998.0, 49.6, 1.0, 0.0, 0.0, 0...</td>\n",
       "      <td>17300</td>\n",
       "    </tr>\n",
       "    <tr>\n",
       "      <th>5</th>\n",
       "      <td>(2016.0, 30.0, 32260.0, 58.9, 1.4, 0.0, 0.0, 0...</td>\n",
       "      <td>13900</td>\n",
       "    </tr>\n",
       "    <tr>\n",
       "      <th>6</th>\n",
       "      <td>(2016.0, 30.0, 76788.0, 61.4, 2.0, 0.0, 0.0, 0...</td>\n",
       "      <td>13250</td>\n",
       "    </tr>\n",
       "    <tr>\n",
       "      <th>7</th>\n",
       "      <td>(2016.0, 20.0, 75185.0, 70.6, 2.0, 0.0, 0.0, 0...</td>\n",
       "      <td>11750</td>\n",
       "    </tr>\n",
       "    <tr>\n",
       "      <th>8</th>\n",
       "      <td>(2015.0, 20.0, 46112.0, 60.1, 1.4, 0.0, 0.0, 0...</td>\n",
       "      <td>10200</td>\n",
       "    </tr>\n",
       "    <tr>\n",
       "      <th>9</th>\n",
       "      <td>(2016.0, 30.0, 22451.0, 55.4, 1.4, 0.0, 0.0, 0...</td>\n",
       "      <td>12000</td>\n",
       "    </tr>\n",
       "  </tbody>\n",
       "</table>\n",
       "</div>"
      ],
      "text/plain": [
       "                                            features  price\n",
       "0  (2017.0, 150.0, 15735.0, 55.4, 1.4, 0.0, 0.0, ...  12500\n",
       "1  (2016.0, 20.0, 36203.0, 64.2, 2.0, 0.0, 0.0, 0...  16500\n",
       "2  (2016.0, 30.0, 29946.0, 55.4, 1.4, 0.0, 0.0, 0...  11000\n",
       "3  (2017.0, 145.0, 25952.0, 67.3, 2.0, 0.0, 0.0, ...  16800\n",
       "4  (2019.0, 145.0, 1998.0, 49.6, 1.0, 0.0, 0.0, 0...  17300\n",
       "5  (2016.0, 30.0, 32260.0, 58.9, 1.4, 0.0, 0.0, 0...  13900\n",
       "6  (2016.0, 30.0, 76788.0, 61.4, 2.0, 0.0, 0.0, 0...  13250\n",
       "7  (2016.0, 20.0, 75185.0, 70.6, 2.0, 0.0, 0.0, 0...  11750\n",
       "8  (2015.0, 20.0, 46112.0, 60.1, 1.4, 0.0, 0.0, 0...  10200\n",
       "9  (2016.0, 30.0, 22451.0, 55.4, 1.4, 0.0, 0.0, 0...  12000"
      ]
     },
     "execution_count": 22,
     "metadata": {},
     "output_type": "execute_result"
    }
   ],
   "source": [
    "spark_features_df.toPandas().head(10)  #data ready for training"
   ]
  },
  {
   "cell_type": "code",
   "execution_count": 23,
   "id": "3620b16c",
   "metadata": {
    "execution": {
     "iopub.execute_input": "2022-04-18T10:09:54.403389Z",
     "iopub.status.busy": "2022-04-18T10:09:54.402722Z",
     "iopub.status.idle": "2022-04-18T10:10:01.675315Z",
     "shell.execute_reply": "2022-04-18T10:10:01.674800Z",
     "shell.execute_reply.started": "2022-04-04T12:50:23.305647Z"
    },
    "papermill": {
     "duration": 7.467109,
     "end_time": "2022-04-18T10:10:01.675481",
     "exception": false,
     "start_time": "2022-04-18T10:09:54.208372",
     "status": "completed"
    },
    "tags": []
   },
   "outputs": [
    {
     "name": "stderr",
     "output_type": "stream",
     "text": [
      "                                                                                \r"
     ]
    },
    {
     "data": {
      "text/plain": [
       "0        (2017.0, 150.0, 15735.0, 55.4, 1.4, 0.0, 0.0, ...\n",
       "1        (2016.0, 20.0, 36203.0, 64.2, 2.0, 0.0, 0.0, 0...\n",
       "2        (2016.0, 30.0, 29946.0, 55.4, 1.4, 0.0, 0.0, 0...\n",
       "3        (2017.0, 145.0, 25952.0, 67.3, 2.0, 0.0, 0.0, ...\n",
       "4        (2019.0, 145.0, 1998.0, 49.6, 1.0, 0.0, 0.0, 0...\n",
       "                               ...                        \n",
       "99181    (2020.0, 145.0, 500.0, 55.4, 2.0, 0.0, 0.0, 0....\n",
       "99182    (2020.0, 145.0, 2500.0, 55.4, 2.0, 0.0, 0.0, 0...\n",
       "99183    (2019.0, 145.0, 11612.0, 41.5, 2.1, 0.0, 0.0, ...\n",
       "99184    (2019.0, 145.0, 2426.0, 45.6, 2.0, 0.0, 0.0, 0...\n",
       "99185    (2019.0, 145.0, 2075.0, 52.3, 2.9, 0.0, 0.0, 0...\n",
       "Name: features, Length: 99186, dtype: object"
      ]
     },
     "execution_count": 23,
     "metadata": {},
     "output_type": "execute_result"
    }
   ],
   "source": [
    "spark_features_df.toPandas().features"
   ]
  },
  {
   "cell_type": "code",
   "execution_count": 24,
   "id": "27731427",
   "metadata": {
    "execution": {
     "iopub.execute_input": "2022-04-18T10:10:02.057402Z",
     "iopub.status.busy": "2022-04-18T10:10:02.056807Z",
     "iopub.status.idle": "2022-04-18T10:10:06.063019Z",
     "shell.execute_reply": "2022-04-18T10:10:06.063779Z",
     "shell.execute_reply.started": "2022-04-08T06:11:16.389262Z"
    },
    "papermill": {
     "duration": 4.199344,
     "end_time": "2022-04-18T10:10:06.064054",
     "exception": false,
     "start_time": "2022-04-18T10:10:01.864710",
     "status": "completed"
    },
    "tags": []
   },
   "outputs": [
    {
     "name": "stderr",
     "output_type": "stream",
     "text": [
      "                                                                                \r"
     ]
    },
    {
     "data": {
      "text/plain": [
       "(69560, 29626)"
      ]
     },
     "execution_count": 24,
     "metadata": {},
     "output_type": "execute_result"
    }
   ],
   "source": [
    "# Split the Raw Features and Labelled DataFrame into a Training DataFrame and a Test DataFrame\n",
    "train_df, test_df = spark_features_df.randomSplit([0.7, 0.3], seed=4020)\n",
    "train_df.count(), test_df.count()"
   ]
  },
  {
   "cell_type": "markdown",
   "id": "30cf7f45",
   "metadata": {
    "papermill": {
     "duration": 0.19703,
     "end_time": "2022-04-18T10:10:06.497841",
     "exception": false,
     "start_time": "2022-04-18T10:10:06.300811",
     "status": "completed"
    },
    "tags": []
   },
   "source": [
    "# Data Visualisation"
   ]
  },
  {
   "cell_type": "code",
   "execution_count": 25,
   "id": "f8b3a626",
   "metadata": {
    "execution": {
     "iopub.execute_input": "2022-04-18T10:10:06.896819Z",
     "iopub.status.busy": "2022-04-18T10:10:06.895865Z",
     "iopub.status.idle": "2022-04-18T10:10:27.350691Z",
     "shell.execute_reply": "2022-04-18T10:10:27.349921Z"
    },
    "papermill": {
     "duration": 20.659694,
     "end_time": "2022-04-18T10:10:27.350854",
     "exception": false,
     "start_time": "2022-04-18T10:10:06.691160",
     "status": "completed"
    },
    "tags": []
   },
   "outputs": [
    {
     "name": "stderr",
     "output_type": "stream",
     "text": [
      "                                                                                \r"
     ]
    }
   ],
   "source": [
    "import seaborn as sns\n",
    "reg_num_pandas = vec_df.toPandas()"
   ]
  },
  {
   "cell_type": "code",
   "execution_count": 26,
   "id": "e4386024",
   "metadata": {
    "execution": {
     "iopub.execute_input": "2022-04-18T10:10:27.749379Z",
     "iopub.status.busy": "2022-04-18T10:10:27.748735Z",
     "iopub.status.idle": "2022-04-18T10:10:27.779352Z",
     "shell.execute_reply": "2022-04-18T10:10:27.778845Z"
    },
    "papermill": {
     "duration": 0.229908,
     "end_time": "2022-04-18T10:10:27.779519",
     "exception": false,
     "start_time": "2022-04-18T10:10:27.549611",
     "status": "completed"
    },
    "tags": []
   },
   "outputs": [
    {
     "data": {
      "text/html": [
       "<div>\n",
       "<style scoped>\n",
       "    .dataframe tbody tr th:only-of-type {\n",
       "        vertical-align: middle;\n",
       "    }\n",
       "\n",
       "    .dataframe tbody tr th {\n",
       "        vertical-align: top;\n",
       "    }\n",
       "\n",
       "    .dataframe thead th {\n",
       "        text-align: right;\n",
       "    }\n",
       "</style>\n",
       "<table border=\"1\" class=\"dataframe\">\n",
       "  <thead>\n",
       "    <tr style=\"text-align: right;\">\n",
       "      <th></th>\n",
       "      <th>price</th>\n",
       "      <th>year</th>\n",
       "      <th>tax</th>\n",
       "      <th>mileage</th>\n",
       "      <th>mpg</th>\n",
       "      <th>engineSize</th>\n",
       "    </tr>\n",
       "  </thead>\n",
       "  <tbody>\n",
       "    <tr>\n",
       "      <th>price</th>\n",
       "      <td>1.000000</td>\n",
       "      <td>0.492059</td>\n",
       "      <td>0.307667</td>\n",
       "      <td>-0.417946</td>\n",
       "      <td>-0.296440</td>\n",
       "      <td>0.638113</td>\n",
       "    </tr>\n",
       "    <tr>\n",
       "      <th>year</th>\n",
       "      <td>0.492059</td>\n",
       "      <td>1.000000</td>\n",
       "      <td>0.195825</td>\n",
       "      <td>-0.740443</td>\n",
       "      <td>-0.132909</td>\n",
       "      <td>-0.038560</td>\n",
       "    </tr>\n",
       "    <tr>\n",
       "      <th>tax</th>\n",
       "      <td>0.307667</td>\n",
       "      <td>0.195825</td>\n",
       "      <td>1.000000</td>\n",
       "      <td>-0.220786</td>\n",
       "      <td>-0.451446</td>\n",
       "      <td>0.278420</td>\n",
       "    </tr>\n",
       "    <tr>\n",
       "      <th>mileage</th>\n",
       "      <td>-0.417946</td>\n",
       "      <td>-0.740443</td>\n",
       "      <td>-0.220786</td>\n",
       "      <td>1.000000</td>\n",
       "      <td>0.185671</td>\n",
       "      <td>0.109081</td>\n",
       "    </tr>\n",
       "    <tr>\n",
       "      <th>mpg</th>\n",
       "      <td>-0.296440</td>\n",
       "      <td>-0.132909</td>\n",
       "      <td>-0.451446</td>\n",
       "      <td>0.185671</td>\n",
       "      <td>1.000000</td>\n",
       "      <td>-0.248214</td>\n",
       "    </tr>\n",
       "    <tr>\n",
       "      <th>engineSize</th>\n",
       "      <td>0.638113</td>\n",
       "      <td>-0.038560</td>\n",
       "      <td>0.278420</td>\n",
       "      <td>0.109081</td>\n",
       "      <td>-0.248214</td>\n",
       "      <td>1.000000</td>\n",
       "    </tr>\n",
       "  </tbody>\n",
       "</table>\n",
       "</div>"
      ],
      "text/plain": [
       "               price      year       tax   mileage       mpg  engineSize\n",
       "price       1.000000  0.492059  0.307667 -0.417946 -0.296440    0.638113\n",
       "year        0.492059  1.000000  0.195825 -0.740443 -0.132909   -0.038560\n",
       "tax         0.307667  0.195825  1.000000 -0.220786 -0.451446    0.278420\n",
       "mileage    -0.417946 -0.740443 -0.220786  1.000000  0.185671    0.109081\n",
       "mpg        -0.296440 -0.132909 -0.451446  0.185671  1.000000   -0.248214\n",
       "engineSize  0.638113 -0.038560  0.278420  0.109081 -0.248214    1.000000"
      ]
     },
     "execution_count": 26,
     "metadata": {},
     "output_type": "execute_result"
    }
   ],
   "source": [
    "reg_num_pandas.corr()"
   ]
  },
  {
   "cell_type": "code",
   "execution_count": 27,
   "id": "7093f0a4",
   "metadata": {
    "execution": {
     "iopub.execute_input": "2022-04-18T10:10:28.178570Z",
     "iopub.status.busy": "2022-04-18T10:10:28.177867Z",
     "iopub.status.idle": "2022-04-18T10:10:28.538094Z",
     "shell.execute_reply": "2022-04-18T10:10:28.537574Z"
    },
    "papermill": {
     "duration": 0.562057,
     "end_time": "2022-04-18T10:10:28.538239",
     "exception": false,
     "start_time": "2022-04-18T10:10:27.976182",
     "status": "completed"
    },
    "tags": []
   },
   "outputs": [
    {
     "data": {
      "text/plain": [
       "<AxesSubplot:>"
      ]
     },
     "execution_count": 27,
     "metadata": {},
     "output_type": "execute_result"
    },
    {
     "data": {
      "image/png": "[encoded data removed]",
      "text/plain": [
       "<Figure size 720x576 with 2 Axes>"
      ]
     },
     "metadata": {
      "needs_background": "light"
     },
     "output_type": "display_data"
    }
   ],
   "source": [
    "plt.figure(figsize=(10,8)) \n",
    "\n",
    "cmap = sns.diverging_palette(220, 10, as_cmap=True)\n",
    "sns.heatmap(reg_num_pandas.corr(), cmap=cmap)"
   ]
  },
  {
   "cell_type": "markdown",
   "id": "725bd78c",
   "metadata": {
    "papermill": {
     "duration": 0.199361,
     "end_time": "2022-04-18T10:10:28.936337",
     "exception": false,
     "start_time": "2022-04-18T10:10:28.736976",
     "status": "completed"
    },
    "tags": []
   },
   "source": [
    "We checked the correlation matrix and the corresponding heatmap to avoid multicollinearity between the features. It seems we do not need to drop any column."
   ]
  },
  {
   "cell_type": "markdown",
   "id": "25a4df04",
   "metadata": {
    "papermill": {
     "duration": 0.197899,
     "end_time": "2022-04-18T10:10:29.333157",
     "exception": false,
     "start_time": "2022-04-18T10:10:29.135258",
     "status": "completed"
    },
    "tags": []
   },
   "source": [
    "# Multi-variate Linear Regression Model"
   ]
  },
  {
   "cell_type": "code",
   "execution_count": 28,
   "id": "c8bdce1d",
   "metadata": {
    "execution": {
     "iopub.execute_input": "2022-04-18T10:10:29.738638Z",
     "iopub.status.busy": "2022-04-18T10:10:29.737865Z",
     "iopub.status.idle": "2022-04-18T10:10:35.759986Z",
     "shell.execute_reply": "2022-04-18T10:10:35.760854Z"
    },
    "papermill": {
     "duration": 6.228032,
     "end_time": "2022-04-18T10:10:35.761112",
     "exception": false,
     "start_time": "2022-04-18T10:10:29.533080",
     "status": "completed"
    },
    "tags": []
   },
   "outputs": [
    {
     "name": "stderr",
     "output_type": "stream",
     "text": [
      "                                                                                \r"
     ]
    }
   ],
   "source": [
    "# Train a Multi-variate Linear Regression Model on the Training DataFrame\n",
    "multi_reg = LinearRegression(featuresCol = 'features', labelCol = 'price',\n",
    "                                       regParam=0.3, elasticNetParam=0.3)\n",
    "multi_reg_model = multi_reg.fit(train_df)"
   ]
  },
  {
   "cell_type": "code",
   "execution_count": 29,
   "id": "a6ea53cb",
   "metadata": {
    "execution": {
     "iopub.execute_input": "2022-04-18T10:10:36.203541Z",
     "iopub.status.busy": "2022-04-18T10:10:36.202866Z",
     "iopub.status.idle": "2022-04-18T10:10:38.749131Z",
     "shell.execute_reply": "2022-04-18T10:10:38.750562Z"
    },
    "papermill": {
     "duration": 2.758118,
     "end_time": "2022-04-18T10:10:38.750816",
     "exception": false,
     "start_time": "2022-04-18T10:10:35.992698",
     "status": "completed"
    },
    "tags": []
   },
   "outputs": [
    {
     "name": "stdout",
     "output_type": "stream",
     "text": [
      "Model Coefficients: [1398.0044551827089,-11.477428584733264,-0.09079506430546294,-79.55431162539217,5972.704685756576,-1646.7762113903975,-110.88198091843432,44.85923136935791,1501.3257262381842,-4207.8111662354195,-2581.7792379304183,-1418.5737116870873,375.3044338413358,74.39624189617507,88.80179030622949,-2643.9738454415547,-3581.6429610803116,-2182.419152821415,-2904.5500773850854,3152.333874912145,-329.31907173432694,2840.72917386049,-3016.487923935019,-1421.5018118957275,2534.6256066535398,166.7711833664046,-2211.511296938878,-1552.284999118509,-1666.393431107947,-1092.2599936695688,-5659.503849866654,2087.802613106315,-290.0460449600767,126.95705296776175,7918.917455660546,379.8537395589649,-4837.816831014724,1745.4554227220362,7256.833615522727,-833.7717890737995,1031.117255971975,-689.9045598476115,656.3163006768045,1098.61030384295,2352.582227393715,2328.6820231405495,-2507.310946906357,-2171.206263750794,-691.2830316691577,-1664.3466892312417,2106.211545659797,6101.570460001587,-1771.0150277900668,-2492.4173160379232,-6333.808097853344,-477.43057907042765,335.95242822858995,-4623.41480046364,1474.4035926337754,388.908813075362,5316.366710391477,-3886.8138998276513,12978.959109147552,-3399.9822867592466,12469.447415003313,-801.9598087473456,-4625.492127735185,15042.419402439078,2659.779896695605,6893.984976764449,-3032.3970221887475,2188.920071614783,1779.2237698503573,-1592.1757610420568,1146.5785935976492,2651.1505941375394,2971.1115427397385,-3953.7011018868934,-1986.8321397493132,416.2350392022583,4152.258373521216,1977.7162559608923,-2421.9375577372675,3314.681179701095,-1236.822894777002,4252.7838847919365,-1194.4726596812545,2918.8041505425863,3218.067916506675,3104.9403331712388,4728.21216039161,9071.433560253372,-5630.406093509315,-2965.629649077645,16183.267664860314,-1406.1272879311007,7563.366027705601,-298.282969341431,-2282.4381523473207,502.7736185649934,-359.3509244497755,-1873.1637157728078,12184.88165030811,2506.990124077576,1888.4724615119826,7041.7675702408715,-254.32620533702377,-5671.829172729132,470.6419776826928,-1139.1907664785913,3919.635882580547,636.0470815195118,2824.154041790694,10212.575088515874,16136.231156742817,19534.701393832947,-1879.1031291022946,-1689.1464302478998,157.00039505440725,5456.209844642717,866.0651246760133,3355.9201384376506,62.68195966497988,2319.6085347228177,4933.672593302449,4126.3505691102,17117.81776116189,1219.5475419181741,25961.109440779528,3281.83248154356,3686.18499332079,-2275.922429193001,1476.833926151518,-967.4060439075251,-2732.099644757964,37563.71352339425,16354.657827084187,39577.07602134048,28685.27220801862,21270.857334626002,8347.48699855711,814.0047959988434,-2523.095467181865,18643.388518459695,16998.107411875895,21022.94456664717,58166.50886617861,1078.649459259201,10052.63407416209,1978.5359612044251,9030.611113103447,4982.827756764573,10110.07691170552,3151.74262115997,882.1614277235562,39813.71249468043,5136.228018927255,9726.519937528183,34098.56561819209,71558.33641812917,7688.041821689412,16361.333978548586,20159.302001105036,-2477.4926877565144,-2058.777039853517,3357.2552997459443,3211.9179270214468,14923.340787118015,883.0116722480251,3934.557189024307,13839.437099257679,353.4192981530735,8049.556135980237,1392.7816778653387,967.1930743130429,5746.543450032761,7154.357819089179,1940.625696713233,7965.954875531257,20737.524030390858,-2289.9216034063675,-1273.8467067894774,-2803.750784961669,7382.582116969658,-976.7174583881523,1356.2476825299314,-692.6405663025638,7281.214850196968,6904.0513724585335,13332.288477237957,10867.67913715304,3994.432246191228,18364.27360885655,0.0,1889.4941040535725,-706.0173792191489,0.0,0.0,-2330.375625622947,-905.4318505220318,954.6485989723545,277.00209106018673,711.3475087535089,-771.8371169845062,4740.385932637186,2629.6942981217358,-749.7092459535681,76.62033304975299,-2267.79755543419,2455.0916418698184,1502.8176960351313,2186.6572958381807,-1921.7292709646479,-958.5664269488138]\n",
      "Intercept: -2805288.290268282\n",
      "RMSE: 3653.587983\n",
      "R-SQUARED: 0.863615\n",
      "TRAINING DATASET DESCRIPTIVE SUMMARY: \n"
     ]
    },
    {
     "name": "stderr",
     "output_type": "stream",
     "text": [
      "/opt/conda/lib/python3.7/site-packages/pyspark/sql/context.py:127: FutureWarning: Deprecated in 3.0.0. Use SparkSession.builder.getOrCreate() instead.\n",
      "  FutureWarning\n"
     ]
    },
    {
     "name": "stdout",
     "output_type": "stream",
     "text": [
      "+-------+------------------+\n",
      "|summary|             price|\n",
      "+-------+------------------+\n",
      "|  count|             69560|\n",
      "|   mean|16840.863369752733|\n",
      "| stddev| 9893.265474368769|\n",
      "|    min|               450|\n",
      "|    max|            159999|\n",
      "+-------+------------------+\n",
      "\n",
      "TRAINING DATASET RESIDUALS: \n",
      "+-------------------+\n",
      "|          residuals|\n",
      "+-------------------+\n",
      "|  5883.983194134198|\n",
      "|  9223.631225297693|\n",
      "|  5482.119467490818|\n",
      "|   6401.24592867773|\n",
      "| 2392.3647950687446|\n",
      "|  5769.622640212532|\n",
      "| 3779.9466806869023|\n",
      "| 2123.7293031536974|\n",
      "| 2725.8943194835447|\n",
      "| 3875.1614052015357|\n",
      "| 1827.5702448589727|\n",
      "| 1007.5312009104528|\n",
      "| 2592.2747299107723|\n",
      "| -1263.927047799807|\n",
      "| -2938.037775473669|\n",
      "| 102.96973243961111|\n",
      "| -750.1967236301862|\n",
      "|-380.88745968742296|\n",
      "| 1652.0563008338213|\n",
      "| 485.23000428825617|\n",
      "+-------------------+\n",
      "only showing top 20 rows\n",
      "\n"
     ]
    }
   ],
   "source": [
    "# Output Multi-variate Linear Regression Model Summary Statistics to evaluate the Training Model\n",
    "print(\"Model Coefficients: \" + str(multi_reg_model.coefficients))\n",
    "print(\"Intercept: \" + str(multi_reg_model.intercept))\n",
    "training_summary = multi_reg_model.summary\n",
    "print(\"RMSE: %f\" % training_summary.rootMeanSquaredError)\n",
    "print(\"R-SQUARED: %f\" % training_summary.r2)\n",
    "print(\"TRAINING DATASET DESCRIPTIVE SUMMARY: \")\n",
    "train_df.describe().show()\n",
    "print(\"TRAINING DATASET RESIDUALS: \")\n",
    "training_summary.residuals.show()"
   ]
  },
  {
   "cell_type": "code",
   "execution_count": 30,
   "id": "6deedf16",
   "metadata": {
    "execution": {
     "iopub.execute_input": "2022-04-18T10:10:39.170619Z",
     "iopub.status.busy": "2022-04-18T10:10:39.169504Z",
     "iopub.status.idle": "2022-04-18T10:10:39.897555Z",
     "shell.execute_reply": "2022-04-18T10:10:39.898536Z"
    },
    "papermill": {
     "duration": 0.943474,
     "end_time": "2022-04-18T10:10:39.898767",
     "exception": false,
     "start_time": "2022-04-18T10:10:38.955293",
     "status": "completed"
    },
    "tags": []
   },
   "outputs": [
    {
     "name": "stdout",
     "output_type": "stream",
     "text": [
      "TEST DATASET PREDICTIONS AGAINST ACTUAL TARGET VALUES: \n",
      "+--------------------+-----+------------------+\n",
      "|            features|price|        prediction|\n",
      "+--------------------+-----+------------------+\n",
      "|(214,[0,1,2,3,4,2...| 8488| 1290.926892538555|\n",
      "|(214,[0,1,2,3,4,2...| 5000|3183.2812621840276|\n",
      "|(214,[0,1,2,3,4,2...| 5995| 3650.403441452887|\n",
      "|(214,[0,1,2,3,4,2...| 4990|1836.2529213703237|\n",
      "|(214,[0,1,2,3,4,2...| 7150|  8856.06156556448|\n",
      "|(214,[0,1,2,3,4,2...| 7999|5625.7162324581295|\n",
      "|(214,[0,1,2,3,4,2...|12695| 10384.75054855831|\n",
      "|(214,[0,1,2,3,4,2...|11500| 8291.651931124274|\n",
      "|(214,[0,1,2,3,4,2...|10000|   7297.7183621726|\n",
      "|(214,[0,1,2,3,4,2...|10995| 11452.70973194018|\n",
      "|(214,[0,1,2,3,4,2...|12990|10482.655264900997|\n",
      "|(214,[0,1,2,3,4,2...|10485|11581.542120710481|\n",
      "|(214,[0,1,2,3,4,2...|11690|11200.293645692058|\n",
      "|(214,[0,1,2,3,4,2...|11498| 10753.04483166663|\n",
      "|(214,[0,1,2,3,4,2...|10998| 9324.104436884169|\n",
      "|(214,[0,1,2,3,4,2...|11650| 15169.52011982724|\n",
      "|(214,[0,1,2,3,4,2...|16485|16052.621780164074|\n",
      "|(214,[0,1,2,3,4,2...|10930|13015.819175395649|\n",
      "|(214,[0,1,2,3,4,2...|10000| 7319.478869634215|\n",
      "|(214,[0,1,2,3,4,2...|14499| 14655.11473686574|\n",
      "|(214,[0,1,2,3,4,2...|14499|14586.382873186376|\n",
      "|(214,[0,1,2,3,4,2...|15662|  14571.3159193811|\n",
      "|(214,[0,1,2,3,4,2...|11500|  13261.0473195198|\n",
      "|(214,[0,1,2,3,4,2...|13923|13325.607637110166|\n",
      "|(214,[0,1,2,3,4,2...|13990|13248.068652193062|\n",
      "|(214,[0,1,2,3,4,2...|14995|11049.152713695075|\n",
      "|(214,[0,1,2,3,4,2...|10999|11842.635152606294|\n",
      "|(214,[0,1,2,3,4,2...| 7999| 8995.624045095406|\n",
      "|(214,[0,1,2,3,4,2...|10000| 7948.360748683568|\n",
      "|(214,[0,1,2,3,4,2...| 9995|13356.447908354457|\n",
      "|(214,[0,1,2,3,4,2...|11499|12302.498801896814|\n",
      "|(214,[0,1,2,3,4,2...|18800|  17408.3110730974|\n",
      "|(214,[0,1,2,3,4,2...|14100|17153.252749437466|\n",
      "|(214,[0,1,2,3,4,2...|16895|16966.941277482547|\n",
      "|(214,[0,1,2,3,4,2...|14257| 16816.40306086419|\n",
      "|(214,[0,1,2,3,4,2...|16000|16574.252624361776|\n",
      "|(214,[0,1,2,3,4,2...|14695|16481.732453834265|\n",
      "|(214,[0,1,2,3,4,2...|14000|16299.410937840119|\n",
      "|(214,[0,1,2,3,4,2...|12800|13522.391261387616|\n",
      "|(214,[0,1,2,3,4,2...|14200| 15767.17529775016|\n",
      "|(214,[0,1,2,3,4,2...|14995|15399.546082377434|\n",
      "|(214,[0,1,2,3,4,2...|14000|15343.292703873478|\n",
      "|(214,[0,1,2,3,4,2...|13995|15237.658482721075|\n",
      "|(214,[0,1,2,3,4,2...|13995|14797.211625774857|\n",
      "|(214,[0,1,2,3,4,2...|12875| 13993.76610173611|\n",
      "|(214,[0,1,2,3,4,2...|14250|13926.396164021455|\n",
      "|(214,[0,1,2,3,4,2...|15499|17334.481563055422|\n",
      "|(214,[0,1,2,3,4,2...|17495| 16375.71908239508|\n",
      "|(214,[0,1,2,3,4,2...|16040| 16197.84652455151|\n",
      "|(214,[0,1,2,3,4,2...|15990|16381.422472243197|\n",
      "+--------------------+-----+------------------+\n",
      "only showing top 50 rows\n",
      "\n"
     ]
    }
   ],
   "source": [
    "# Apply the Trained Linear Regression Model to the Test DataFrame to make predictions\n",
    "test_multi_reg_predictions_df = multi_reg_model.transform(test_df)\n",
    "print(\"TEST DATASET PREDICTIONS AGAINST ACTUAL TARGET VALUES: \")\n",
    "test_multi_reg_predictions_df.select(\"features\", \"price\",\"prediction\").show(50)"
   ]
  },
  {
   "cell_type": "markdown",
   "id": "899c9bcc",
   "metadata": {
    "papermill": {
     "duration": 0.205123,
     "end_time": "2022-04-18T10:10:40.360106",
     "exception": false,
     "start_time": "2022-04-18T10:10:40.154983",
     "status": "completed"
    },
    "tags": []
   },
   "source": [
    "# Random Forest Regression Model"
   ]
  },
  {
   "cell_type": "code",
   "execution_count": 31,
   "id": "2559ff02",
   "metadata": {
    "execution": {
     "iopub.execute_input": "2022-04-18T10:10:40.780597Z",
     "iopub.status.busy": "2022-04-18T10:10:40.779585Z",
     "iopub.status.idle": "2022-04-18T10:10:50.210091Z",
     "shell.execute_reply": "2022-04-18T10:10:50.210801Z",
     "shell.execute_reply.started": "2022-04-08T06:11:23.518965Z"
    },
    "papermill": {
     "duration": 9.644297,
     "end_time": "2022-04-18T10:10:50.210981",
     "exception": false,
     "start_time": "2022-04-18T10:10:40.566684",
     "status": "completed"
    },
    "tags": []
   },
   "outputs": [
    {
     "name": "stderr",
     "output_type": "stream",
     "text": [
      "                                                                                \r"
     ]
    }
   ],
   "source": [
    "# Train a Random Forest Regression Model on the Training DataFrame\n",
    "random_forest = RandomForestRegressor(featuresCol = 'features', \n",
    "                                       labelCol = 'price',seed=4020)\n",
    "random_forest_model = random_forest.fit(train_df)"
   ]
  },
  {
   "cell_type": "code",
   "execution_count": 32,
   "id": "022fbed3",
   "metadata": {
    "execution": {
     "iopub.execute_input": "2022-04-18T10:10:50.640346Z",
     "iopub.status.busy": "2022-04-18T10:10:50.639648Z",
     "iopub.status.idle": "2022-04-18T10:10:50.642352Z",
     "shell.execute_reply": "2022-04-18T10:10:50.641736Z"
    },
    "papermill": {
     "duration": 0.217112,
     "end_time": "2022-04-18T10:10:50.642534",
     "exception": false,
     "start_time": "2022-04-18T10:10:50.425422",
     "status": "completed"
    },
    "tags": []
   },
   "outputs": [],
   "source": [
    "#numTrees=20, numFeatures=222\n",
    "#print(str(random_forest_model.toDebugString))"
   ]
  },
  {
   "cell_type": "code",
   "execution_count": 33,
   "id": "10ea7599",
   "metadata": {
    "execution": {
     "iopub.execute_input": "2022-04-18T10:10:51.075701Z",
     "iopub.status.busy": "2022-04-18T10:10:51.075060Z",
     "iopub.status.idle": "2022-04-18T10:10:51.840422Z",
     "shell.execute_reply": "2022-04-18T10:10:51.839543Z",
     "shell.execute_reply.started": "2022-04-08T06:11:44.776988Z"
    },
    "papermill": {
     "duration": 0.981088,
     "end_time": "2022-04-18T10:10:51.840611",
     "exception": false,
     "start_time": "2022-04-18T10:10:50.859523",
     "status": "completed"
    },
    "tags": []
   },
   "outputs": [
    {
     "name": "stdout",
     "output_type": "stream",
     "text": [
      "+--------------------+-----+------------------+\n",
      "|            features|price|        prediction|\n",
      "+--------------------+-----+------------------+\n",
      "|(214,[0,1,2,3,4,2...| 8488|11464.227765989468|\n",
      "|(214,[0,1,2,3,4,2...| 5000| 8341.320903527689|\n",
      "|(214,[0,1,2,3,4,2...| 5995|11470.627467848282|\n",
      "|(214,[0,1,2,3,4,2...| 4990| 7951.352170284859|\n",
      "|(214,[0,1,2,3,4,2...| 7150| 9281.316616129212|\n",
      "|(214,[0,1,2,3,4,2...| 7999| 8643.405407982624|\n",
      "|(214,[0,1,2,3,4,2...|12695|  9081.16819858318|\n",
      "|(214,[0,1,2,3,4,2...|11500| 8643.405407982624|\n",
      "|(214,[0,1,2,3,4,2...|10000| 8643.405407982624|\n",
      "|(214,[0,1,2,3,4,2...|10995| 9146.623787654364|\n",
      "+--------------------+-----+------------------+\n",
      "only showing top 10 rows\n",
      "\n"
     ]
    }
   ],
   "source": [
    "# Apply the Trained Random Forest Regression Model to the Test DataFrame to make predictions\n",
    "test_random_forest_predictions_df = random_forest_model.transform(test_df)\n",
    "train_random_forest_predictions_df = random_forest_model.transform(train_df)\n",
    "\n",
    "#output df that includes test data and predicted results\n",
    "test_random_forest_predictions_df.show(10)"
   ]
  },
  {
   "cell_type": "markdown",
   "id": "76300db7",
   "metadata": {
    "papermill": {
     "duration": 0.211873,
     "end_time": "2022-04-18T10:10:52.281521",
     "exception": false,
     "start_time": "2022-04-18T10:10:52.069648",
     "status": "completed"
    },
    "tags": []
   },
   "source": [
    "# Gradient-boosted tree regression"
   ]
  },
  {
   "cell_type": "code",
   "execution_count": 34,
   "id": "d409d4d0",
   "metadata": {
    "execution": {
     "iopub.execute_input": "2022-04-18T10:10:52.713976Z",
     "iopub.status.busy": "2022-04-18T10:10:52.712989Z",
     "iopub.status.idle": "2022-04-18T10:11:07.946297Z",
     "shell.execute_reply": "2022-04-18T10:11:07.947543Z"
    },
    "papermill": {
     "duration": 15.45272,
     "end_time": "2022-04-18T10:11:07.947735",
     "exception": false,
     "start_time": "2022-04-18T10:10:52.495015",
     "status": "completed"
    },
    "tags": []
   },
   "outputs": [
    {
     "name": "stderr",
     "output_type": "stream",
     "text": [
      "                                                                                \r"
     ]
    }
   ],
   "source": [
    "gbt = GBTRegressor(featuresCol=\"features\",labelCol = 'price', maxIter=10,seed=4020)\n",
    "gradient_boosted_tree_model = gbt.fit(train_df)"
   ]
  },
  {
   "cell_type": "code",
   "execution_count": 35,
   "id": "b63ec575",
   "metadata": {
    "execution": {
     "iopub.execute_input": "2022-04-18T10:11:08.382211Z",
     "iopub.status.busy": "2022-04-18T10:11:08.381619Z",
     "iopub.status.idle": "2022-04-18T10:11:08.384140Z",
     "shell.execute_reply": "2022-04-18T10:11:08.384744Z"
    },
    "papermill": {
     "duration": 0.220863,
     "end_time": "2022-04-18T10:11:08.384910",
     "exception": false,
     "start_time": "2022-04-18T10:11:08.164047",
     "status": "completed"
    },
    "tags": []
   },
   "outputs": [],
   "source": [
    "#numTrees=20, numFeatures=222\n",
    "#print(str(gradient_boosted_tree_model.toDebugString))"
   ]
  },
  {
   "cell_type": "code",
   "execution_count": 36,
   "id": "04c8f3e2",
   "metadata": {
    "execution": {
     "iopub.execute_input": "2022-04-18T10:11:08.823121Z",
     "iopub.status.busy": "2022-04-18T10:11:08.822475Z",
     "iopub.status.idle": "2022-04-18T10:11:09.635989Z",
     "shell.execute_reply": "2022-04-18T10:11:09.635304Z"
    },
    "papermill": {
     "duration": 1.035712,
     "end_time": "2022-04-18T10:11:09.636135",
     "exception": false,
     "start_time": "2022-04-18T10:11:08.600423",
     "status": "completed"
    },
    "tags": []
   },
   "outputs": [
    {
     "name": "stdout",
     "output_type": "stream",
     "text": [
      "+--------------------+-----+------------------+\n",
      "|            features|price|        prediction|\n",
      "+--------------------+-----+------------------+\n",
      "|(214,[0,1,2,3,4,2...| 8488| 5112.428883931471|\n",
      "|(214,[0,1,2,3,4,2...| 5000| 4124.973936392858|\n",
      "|(214,[0,1,2,3,4,2...| 5995| 5658.737561670812|\n",
      "|(214,[0,1,2,3,4,2...| 4990| 4063.834270660895|\n",
      "|(214,[0,1,2,3,4,2...| 7150| 4418.929202538484|\n",
      "|(214,[0,1,2,3,4,2...| 7999| 7503.606453100512|\n",
      "|(214,[0,1,2,3,4,2...|12695| 8281.238725827958|\n",
      "|(214,[0,1,2,3,4,2...|11500|8084.8413859275015|\n",
      "|(214,[0,1,2,3,4,2...|10000| 7790.886119781876|\n",
      "|(214,[0,1,2,3,4,2...|10995|8084.8413859275015|\n",
      "+--------------------+-----+------------------+\n",
      "only showing top 10 rows\n",
      "\n"
     ]
    }
   ],
   "source": [
    "gradient_boosted_tree_predictions_df =gradient_boosted_tree_model.transform(test_df)\n",
    "gradient_boosted_tree_predictions_df_train =gradient_boosted_tree_model.transform(train_df)\n",
    "gradient_boosted_tree_predictions_df.show(10)"
   ]
  },
  {
   "cell_type": "markdown",
   "id": "c23e95d7",
   "metadata": {
    "papermill": {
     "duration": 0.218782,
     "end_time": "2022-04-18T10:11:10.071030",
     "exception": false,
     "start_time": "2022-04-18T10:11:09.852248",
     "status": "completed"
    },
    "tags": []
   },
   "source": [
    "# Model Evaluation"
   ]
  },
  {
   "cell_type": "code",
   "execution_count": 37,
   "id": "a8c19b7b",
   "metadata": {
    "execution": {
     "iopub.execute_input": "2022-04-18T10:11:10.518035Z",
     "iopub.status.busy": "2022-04-18T10:11:10.516965Z",
     "iopub.status.idle": "2022-04-18T10:11:25.915751Z",
     "shell.execute_reply": "2022-04-18T10:11:25.914814Z",
     "shell.execute_reply.started": "2022-04-08T06:11:48.220276Z"
    },
    "papermill": {
     "duration": 15.630534,
     "end_time": "2022-04-18T10:11:25.915896",
     "exception": false,
     "start_time": "2022-04-18T10:11:10.285362",
     "status": "completed"
    },
    "tags": []
   },
   "outputs": [
    {
     "name": "stderr",
     "output_type": "stream",
     "text": [
      "[Stage 218:======================================>                  (6 + 3) / 9]\r"
     ]
    },
    {
     "name": "stdout",
     "output_type": "stream",
     "text": [
      "R2 for multi-variate linear regression is 0.8534882703183052\n",
      "RMSE for multi-variate linear regression is 3752.575606912581\n",
      "R2 for random forest model is 0.8020169952354621\n",
      "RMSE for random forest model is 4362.216428305776\n",
      "R2 for random forest model of the training set is 0.8063625632578371\n",
      "RMSE for random forest model of the training set is 4353.42637229223\n",
      "R2 for gradient_boosted_tree model is 0.8487755022996987\n",
      "RMSE for gradient_boosted_tree model is 3812.4515104745938\n",
      "R2 for gradient_boosted_tree model of the training set is 0.8624331768752524\n",
      "RMSE for gradient_boosted_tree model of the training set is 3669.385963511811\n"
     ]
    },
    {
     "name": "stderr",
     "output_type": "stream",
     "text": [
      "                                                                                \r"
     ]
    }
   ],
   "source": [
    "from pyspark.ml.evaluation import RegressionEvaluator\n",
    "\n",
    "evaluator = RegressionEvaluator()\n",
    "evaluator.setPredictionCol(\"prediction\")\n",
    "evaluator.setLabelCol('price')\n",
    "\n",
    "#Multi-variate Linear Regression\n",
    "r2_multi_linear = evaluator.evaluate(test_multi_reg_predictions_df,{evaluator.metricName: \"r2\"})\n",
    "rmse_multi_linear = evaluator.evaluate(test_multi_reg_predictions_df,{evaluator.metricName: \"rmse\"})\n",
    "\n",
    "#random_forest\n",
    "r2_random_forest = evaluator.evaluate(test_random_forest_predictions_df,{evaluator.metricName: \"r2\"})\n",
    "rmse_random_forest = evaluator.evaluate(test_random_forest_predictions_df,{evaluator.metricName: \"rmse\"})\n",
    "\n",
    "r2_random_forest_train = evaluator.evaluate(train_random_forest_predictions_df,{evaluator.metricName: \"r2\"})\n",
    "rmse_random_forest_train = evaluator.evaluate(train_random_forest_predictions_df,{evaluator.metricName: \"rmse\"})\n",
    "\n",
    "#gradient_boosted_tree\n",
    "r2_gradient_boosted_tree = evaluator.evaluate(gradient_boosted_tree_predictions_df,{evaluator.metricName: \"r2\"})\n",
    "rmse_gradient_boosted_tree = evaluator.evaluate(gradient_boosted_tree_predictions_df,{evaluator.metricName: \"rmse\"})\n",
    "\n",
    "r2_gradient_boosted_tree_train = evaluator.evaluate(gradient_boosted_tree_predictions_df_train,{evaluator.metricName: \"r2\"})\n",
    "rmse_gradient_boosted_tree_train = evaluator.evaluate(gradient_boosted_tree_predictions_df_train,{evaluator.metricName: \"rmse\"})\n",
    "\n",
    "\n",
    "print(f\"R2 for multi-variate linear regression is {r2_multi_linear}\")\n",
    "print(f\"RMSE for multi-variate linear regression is {rmse_multi_linear}\")\n",
    "\n",
    "print(f\"R2 for random forest model is {r2_random_forest}\")\n",
    "print(f\"RMSE for random forest model is {rmse_random_forest}\")\n",
    "\n",
    "print(f\"R2 for random forest model of the training set is {r2_random_forest_train}\")\n",
    "print(f\"RMSE for random forest model of the training set is {rmse_random_forest_train}\")\n",
    "\n",
    "print(f\"R2 for gradient_boosted_tree model is {r2_gradient_boosted_tree}\")\n",
    "print(f\"RMSE for gradient_boosted_tree model is {rmse_gradient_boosted_tree}\")\n",
    "\n",
    "print(f\"R2 for gradient_boosted_tree model of the training set is {r2_gradient_boosted_tree_train}\")\n",
    "print(f\"RMSE for gradient_boosted_tree model of the training set is {rmse_gradient_boosted_tree_train}\")"
   ]
  },
  {
   "cell_type": "markdown",
   "id": "0589c5f3",
   "metadata": {
    "papermill": {
     "duration": 0.227998,
     "end_time": "2022-04-18T10:11:26.392092",
     "exception": false,
     "start_time": "2022-04-18T10:11:26.164094",
     "status": "completed"
    },
    "tags": []
   },
   "source": [
    "# Stops Spark session"
   ]
  },
  {
   "cell_type": "code",
   "execution_count": 38,
   "id": "8be54eb3",
   "metadata": {
    "execution": {
     "iopub.execute_input": "2022-04-18T10:11:26.842593Z",
     "iopub.status.busy": "2022-04-18T10:11:26.841923Z",
     "iopub.status.idle": "2022-04-18T10:11:27.397279Z",
     "shell.execute_reply": "2022-04-18T10:11:27.397768Z",
     "shell.execute_reply.started": "2022-04-04T12:48:38.488083Z"
    },
    "papermill": {
     "duration": 0.781523,
     "end_time": "2022-04-18T10:11:27.397946",
     "exception": false,
     "start_time": "2022-04-18T10:11:26.616423",
     "status": "completed"
    },
    "tags": []
   },
   "outputs": [],
   "source": [
    "session.stop()"
   ]
  }
 ],
 "metadata": {
  "kernelspec": {
   "display_name": "Python 3",
   "language": "python",
   "name": "python3"
  },
  "language_info": {
   "codemirror_mode": {
    "name": "ipython",
    "version": 3
   },
   "file_extension": ".py",
   "mimetype": "text/x-python",
   "name": "python",
   "nbconvert_exporter": "python",
   "pygments_lexer": "ipython3",
   "version": "3.11.7"
  },
  "papermill": {
   "default_parameters": {},
   "duration": 210.328564,
   "end_time": "2022-04-18T10:11:28.936672",
   "environment_variables": {},
   "exception": null,
   "input_path": "__notebook__.ipynb",
   "output_path": "__notebook__.ipynb",
   "parameters": {},
   "start_time": "2022-04-18T10:07:58.608108",
   "version": "2.3.3"
  }
 },
 "nbformat": 4,
 "nbformat_minor": 5
}
